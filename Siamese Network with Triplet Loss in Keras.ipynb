{
  "nbformat": 4,
  "nbformat_minor": 0,
  "metadata": {
    "kernelspec": {
      "display_name": "Python 3",
      "language": "python",
      "name": "python3"
    },
    "language_info": {
      "codemirror_mode": {
        "name": "ipython",
        "version": 3
      },
      "file_extension": ".py",
      "mimetype": "text/x-python",
      "name": "python",
      "nbconvert_exporter": "python",
      "pygments_lexer": "ipython3",
      "version": "3.6.8"
    },
    "colab": {
      "name": "Siamese Network with Triplet Loss in Keras - Complete.ipynb",
      "provenance": [],
      "collapsed_sections": [],
      "toc_visible": true
    }
  },
  "cells": [
    {
      "cell_type": "markdown",
      "metadata": {
        "id": "7AARMN8_Qxik",
        "colab_type": "text"
      },
      "source": [
        "# Create a Siamese Network with Triplet Loss in Keras"
      ]
    },
    {
      "cell_type": "markdown",
      "metadata": {
        "id": "_VIsC-MOQxip",
        "colab_type": "text"
      },
      "source": [
        "# Task 1: Understanding the Approach"
      ]
    },
    {
      "cell_type": "code",
      "metadata": {
        "id": "ElEJQ7ukQxit",
        "colab_type": "code",
        "colab": {
          "base_uri": "https://localhost:8080/",
          "height": 34
        },
        "outputId": "791b3cce-c70d-4bca-fdfd-6c2bc5d4f42b"
      },
      "source": [
        "%matplotlib notebook\n",
        "\n",
        "import tensorflow as tf\n",
        "import matplotlib.pyplot as plt\n",
        "import numpy as np\n",
        "import random\n",
        "\n",
        "from pca_plotter import PCAPlotter\n",
        "\n",
        "print('TensorFlow version:', tf.__version__)"
      ],
      "execution_count": 1,
      "outputs": [
        {
          "output_type": "stream",
          "text": [
            "TensorFlow version: 2.3.0\n"
          ],
          "name": "stdout"
        }
      ]
    },
    {
      "cell_type": "code",
      "metadata": {
        "id": "5ESLMCvCRKQN",
        "colab_type": "code",
        "colab": {}
      },
      "source": [
        "# !pip install pca"
      ],
      "execution_count": 2,
      "outputs": []
    },
    {
      "cell_type": "markdown",
      "metadata": {
        "id": "DKngd1oIQxjB",
        "colab_type": "text"
      },
      "source": [
        "## Understanding the Approach\n",
        "\n",
        "This appraoch is taken from the popular [FaceNet](https://arxiv.org/abs/1503.03832) paper.\n",
        "\n",
        "We have a CNN model called `EmbeddingModel`:\n",
        "\n",
        "![CNN](assets/CNN.png)\n",
        "\n",
        "We use three images for each training example:\n",
        "1. `person1_image1.jpg` (Anchor Example, represented below in green)\n",
        "2. `person1_image2.jpg` (Positive Example, in blue)\n",
        "3. `person2_image1.jpg` (Negative Example, in red).\n",
        "\n",
        "![Embeddings](assets/embeddings.png)\n",
        "\n",
        "\n",
        "## Siamese Network\n",
        "\n",
        "All the three images of an example pass through the model, and we get the three Embeddings: One for the Anchor Example, one for the Positive Example, and one for the Negative Example.\n",
        "\n",
        "![Siamese Network](assets/siamese.png)\n",
        "\n",
        "The three instances of the `EmbeddingModel` shown above are not different instances. It's the same, shared model instance - i.e. the parameters are shared, and are updated for all the three paths simultaneously."
      ]
    },
    {
      "cell_type": "markdown",
      "metadata": {
        "id": "iTOnzFVHQxjE",
        "colab_type": "text"
      },
      "source": [
        "# Task 2: Importing the Data"
      ]
    },
    {
      "cell_type": "code",
      "metadata": {
        "id": "yZvr9LRbQxjG",
        "colab_type": "code",
        "colab": {
          "base_uri": "https://localhost:8080/",
          "height": 34
        },
        "outputId": "f655dd73-1991-4568-ff8b-0f31747a450c"
      },
      "source": [
        "(x_train, y_train), (x_test, y_test) = tf.keras.datasets.mnist.load_data()\n",
        "print(x_train.shape)"
      ],
      "execution_count": 3,
      "outputs": [
        {
          "output_type": "stream",
          "text": [
            "(60000, 28, 28)\n"
          ],
          "name": "stdout"
        }
      ]
    },
    {
      "cell_type": "code",
      "metadata": {
        "id": "L3Q69h40QxjV",
        "colab_type": "code",
        "colab": {
          "base_uri": "https://localhost:8080/",
          "height": 34
        },
        "outputId": "c0ca2134-49fb-41c5-8290-b6837ed303a0"
      },
      "source": [
        "x_train = np.reshape(x_train, (x_train.shape[0], 784))/255.\n",
        "x_test = np.reshape(x_test, (x_test.shape[0], 784))/255.\n",
        "print(x_train.shape)"
      ],
      "execution_count": 4,
      "outputs": [
        {
          "output_type": "stream",
          "text": [
            "(60000, 784)\n"
          ],
          "name": "stdout"
        }
      ]
    },
    {
      "cell_type": "markdown",
      "metadata": {
        "id": "HsHpy4tGQxjo",
        "colab_type": "text"
      },
      "source": [
        "# Task 3: Plotting Examples"
      ]
    },
    {
      "cell_type": "code",
      "metadata": {
        "id": "L94o8nDoQxjr",
        "colab_type": "code",
        "colab": {}
      },
      "source": [
        "def plot_triplets(examples):\n",
        "    plt.figure(figsize=(6, 2))\n",
        "    for i in range(3):\n",
        "        plt.subplot(1, 3, 1 + i)\n",
        "        plt.imshow(np.reshape(examples[i], (28, 28)), cmap='binary')\n",
        "        plt.xticks([])\n",
        "        plt.yticks([])\n",
        "    plt.show()"
      ],
      "execution_count": 5,
      "outputs": []
    },
    {
      "cell_type": "code",
      "metadata": {
        "id": "DdAsjON1QxkA",
        "colab_type": "code",
        "colab": {
          "base_uri": "https://localhost:8080/",
          "height": 133
        },
        "outputId": "e9a4165b-4eb4-4d79-e9d1-358995ff892b"
      },
      "source": [
        "plot_triplets([x_train[0], x_train[1], x_train[2]])"
      ],
      "execution_count": 6,
      "outputs": [
        {
          "output_type": "display_data",
          "data": {
            "image/png": "[encoded data removed]",
            "text/plain": [
              "<Figure size 432x144 with 3 Axes>"
            ]
          },
          "metadata": {
            "tags": []
          }
        }
      ]
    },
    {
      "cell_type": "markdown",
      "metadata": {
        "id": "DwkMe8V1QxkO",
        "colab_type": "text"
      },
      "source": [
        "# Task 4: A Batch of Triplets"
      ]
    },
    {
      "cell_type": "code",
      "metadata": {
        "id": "VIzOC8wpQxkR",
        "colab_type": "code",
        "colab": {}
      },
      "source": [
        "def create_batch(batch_size=256):\n",
        "    x_anchors = np.zeros((batch_size, 784))\n",
        "    x_positives = np.zeros((batch_size, 784))\n",
        "    x_negatives = np.zeros((batch_size, 784))\n",
        "    \n",
        "    for i in range(0, batch_size):\n",
        "        # We need to find an anchor, a positive example and a negative example\n",
        "        random_index = random.randint(0, x_train.shape[0] - 1)\n",
        "        x_anchor = x_train[random_index]\n",
        "        y = y_train[random_index]\n",
        "        \n",
        "        indices_for_pos = np.squeeze(np.where(y_train == y))\n",
        "        indices_for_neg = np.squeeze(np.where(y_train != y))\n",
        "        \n",
        "        x_positive = x_train[indices_for_pos[random.randint(0, len(indices_for_pos) - 1)]]\n",
        "        x_negative = x_train[indices_for_neg[random.randint(0, len(indices_for_neg) - 1)]]\n",
        "        \n",
        "        x_anchors[i] = x_anchor\n",
        "        x_positives[i] = x_positive\n",
        "        x_negatives[i] = x_negative\n",
        "        \n",
        "    return [x_anchors, x_positives, x_negatives]"
      ],
      "execution_count": 7,
      "outputs": []
    },
    {
      "cell_type": "code",
      "metadata": {
        "id": "fJ_CroTIQxks",
        "colab_type": "code",
        "colab": {
          "base_uri": "https://localhost:8080/",
          "height": 133
        },
        "outputId": "478b7473-af6f-4f3c-b495-10296485a3f8"
      },
      "source": [
        "examples = create_batch(1)\n",
        "plot_triplets(examples)"
      ],
      "execution_count": 8,
      "outputs": [
        {
          "output_type": "display_data",
          "data": {
            "image/png": "[encoded data removed]",
            "text/plain": [
              "<Figure size 432x144 with 3 Axes>"
            ]
          },
          "metadata": {
            "tags": []
          }
        }
      ]
    },
    {
      "cell_type": "markdown",
      "metadata": {
        "id": "PlTOzO39Qxk6",
        "colab_type": "text"
      },
      "source": [
        "# Task 5: Embedding Model"
      ]
    },
    {
      "cell_type": "code",
      "metadata": {
        "id": "WkhvbQyTQxk9",
        "colab_type": "code",
        "colab": {
          "base_uri": "https://localhost:8080/",
          "height": 221
        },
        "outputId": "f506c571-7851-414a-d141-200ebf86a2af"
      },
      "source": [
        "emb_size = 64\n",
        "\n",
        "embedding_model = tf.keras.models.Sequential([\n",
        "    tf.keras.layers.Dense(64, activation='relu', input_shape=(784,)),\n",
        "    tf.keras.layers.Dense(emb_size, activation='sigmoid')\n",
        "])\n",
        "\n",
        "embedding_model.summary()"
      ],
      "execution_count": 9,
      "outputs": [
        {
          "output_type": "stream",
          "text": [
            "Model: \"sequential\"\n",
            "_________________________________________________________________\n",
            "Layer (type)                 Output Shape              Param #   \n",
            "=================================================================\n",
            "dense (Dense)                (None, 64)                50240     \n",
            "_________________________________________________________________\n",
            "dense_1 (Dense)              (None, 64)                4160      \n",
            "=================================================================\n",
            "Total params: 54,400\n",
            "Trainable params: 54,400\n",
            "Non-trainable params: 0\n",
            "_________________________________________________________________\n"
          ],
          "name": "stdout"
        }
      ]
    },
    {
      "cell_type": "code",
      "metadata": {
        "id": "Xm52q-JFQxlM",
        "colab_type": "code",
        "colab": {
          "base_uri": "https://localhost:8080/",
          "height": 204
        },
        "outputId": "163c554b-f5d8-4f03-949a-668f4f9bf593"
      },
      "source": [
        "example = np.expand_dims(x_train[0], axis=0)\n",
        "example_emb = embedding_model.predict(example)[0]\n",
        "\n",
        "print(example_emb)"
      ],
      "execution_count": 10,
      "outputs": [
        {
          "output_type": "stream",
          "text": [
            "[0.40987688 0.44698837 0.4373682  0.45677963 0.6187708  0.46734247\n",
            " 0.55742896 0.5241349  0.40563518 0.4626755  0.51564676 0.37850812\n",
            " 0.38040859 0.61451656 0.5842044  0.48610818 0.5524697  0.51027006\n",
            " 0.5344932  0.63973397 0.4830136  0.48427045 0.45880106 0.45670474\n",
            " 0.30309898 0.4873087  0.56604445 0.48487842 0.44230163 0.4792284\n",
            " 0.5674497  0.41467857 0.4115201  0.37696767 0.43218747 0.49283996\n",
            " 0.38872942 0.4992767  0.6074787  0.50590044 0.49320313 0.43749487\n",
            " 0.44038048 0.4308619  0.54854316 0.50428784 0.6279153  0.6055724\n",
            " 0.57121515 0.37696302 0.6109583  0.46721685 0.5151554  0.39880782\n",
            " 0.5158301  0.46078512 0.48360494 0.5307799  0.44610924 0.51555455\n",
            " 0.3454034  0.56695986 0.5384083  0.38888618]\n"
          ],
          "name": "stdout"
        }
      ]
    },
    {
      "cell_type": "markdown",
      "metadata": {
        "id": "agJGi6xYQxlY",
        "colab_type": "text"
      },
      "source": [
        "# Task 6: Siamese Network"
      ]
    },
    {
      "cell_type": "code",
      "metadata": {
        "id": "wESLpmBXQxlb",
        "colab_type": "code",
        "colab": {
          "base_uri": "https://localhost:8080/",
          "height": 391
        },
        "outputId": "63e95c17-bde4-4e10-c52c-8945b34e9ced"
      },
      "source": [
        "input_anchor = tf.keras.layers.Input(shape=(784,))\n",
        "input_positive = tf.keras.layers.Input(shape=(784,))\n",
        "input_negative = tf.keras.layers.Input(shape=(784,))\n",
        "\n",
        "embedding_anchor = embedding_model(input_anchor)\n",
        "embedding_positive = embedding_model(input_positive)\n",
        "embedding_negative = embedding_model(input_negative)\n",
        "\n",
        "output = tf.keras.layers.concatenate([embedding_anchor, embedding_positive, embedding_negative], axis=1)\n",
        "\n",
        "net = tf.keras.models.Model([input_anchor, input_positive, input_negative], output)\n",
        "net.summary()"
      ],
      "execution_count": 11,
      "outputs": [
        {
          "output_type": "stream",
          "text": [
            "Model: \"functional_1\"\n",
            "__________________________________________________________________________________________________\n",
            "Layer (type)                    Output Shape         Param #     Connected to                     \n",
            "==================================================================================================\n",
            "input_1 (InputLayer)            [(None, 784)]        0                                            \n",
            "__________________________________________________________________________________________________\n",
            "input_2 (InputLayer)            [(None, 784)]        0                                            \n",
            "__________________________________________________________________________________________________\n",
            "input_3 (InputLayer)            [(None, 784)]        0                                            \n",
            "__________________________________________________________________________________________________\n",
            "sequential (Sequential)         (None, 64)           54400       input_1[0][0]                    \n",
            "                                                                 input_2[0][0]                    \n",
            "                                                                 input_3[0][0]                    \n",
            "__________________________________________________________________________________________________\n",
            "concatenate (Concatenate)       (None, 192)          0           sequential[0][0]                 \n",
            "                                                                 sequential[1][0]                 \n",
            "                                                                 sequential[2][0]                 \n",
            "==================================================================================================\n",
            "Total params: 54,400\n",
            "Trainable params: 54,400\n",
            "Non-trainable params: 0\n",
            "__________________________________________________________________________________________________\n"
          ],
          "name": "stdout"
        }
      ]
    },
    {
      "cell_type": "markdown",
      "metadata": {
        "id": "i9oeDzMtQxlr",
        "colab_type": "text"
      },
      "source": [
        "# Task 7: Triplet Loss\n",
        "\n",
        "A loss function that tries to pull the Embeddings of Anchor and Positive Examples closer, and tries to push the Embeddings of Anchor and Negative Examples away from each other.\n",
        "\n",
        "Root mean square difference between Anchor and Positive examples in a batch of N images is:\n",
        "$\n",
        "\\begin{equation}\n",
        "d_p = \\sqrt{\\frac{\\sum_{i=0}^{N-1}(f(a_i) - f(p_i))^2}{N}}\n",
        "\\end{equation}\n",
        "$\n",
        "\n",
        "Root mean square difference between Anchor and Negative examples in a batch of N images is:\n",
        "$\n",
        "\\begin{equation}\n",
        "d_n = \\sqrt{\\frac{\\sum_{i=0}^{N-1}(f(a_i) - f(n_i))^2}{N}}\n",
        "\\end{equation}\n",
        "$\n",
        "\n",
        "For each example, we want:\n",
        "$\n",
        "\\begin{equation}\n",
        "d_p \\leq d_n\n",
        "\\end{equation}\n",
        "$\n",
        "\n",
        "Therefore,\n",
        "$\n",
        "\\begin{equation}\n",
        "d_p - d_n \\leq 0\n",
        "\\end{equation}\n",
        "$\n",
        "\n",
        "This condition is quite easily satisfied during the training.\n",
        "\n",
        "We will make it non-trivial by adding a margin (alpha):\n",
        "$\n",
        "\\begin{equation}\n",
        "d_p - d_n + \\alpha \\leq 0\n",
        "\\end{equation}\n",
        "$\n",
        "\n",
        "Given the condition above, the Triplet Loss L is defined as:\n",
        "$\n",
        "\\begin{equation}\n",
        "L = max(d_p - d_n + \\alpha, 0)\n",
        "\\end{equation}\n",
        "$"
      ]
    },
    {
      "cell_type": "code",
      "metadata": {
        "id": "x7uAMc0BQxlt",
        "colab_type": "code",
        "colab": {}
      },
      "source": [
        "alpha = 0.2\n",
        "\n",
        "def triplet_loss(y_true, y_pred):\n",
        "    anchor, positive, negative = y_pred[:,:emb_size], y_pred[:,emb_size:2*emb_size], y_pred[:,2*emb_size:]\n",
        "    positive_dist = tf.reduce_mean(tf.square(anchor - positive), axis=1)\n",
        "    negative_dist = tf.reduce_mean(tf.square(anchor - negative), axis=1)\n",
        "    return tf.maximum(positive_dist - negative_dist + alpha, 0.)"
      ],
      "execution_count": 12,
      "outputs": []
    },
    {
      "cell_type": "markdown",
      "metadata": {
        "id": "MGPuv07xQxl8",
        "colab_type": "text"
      },
      "source": [
        "# Task 8: Data Generator"
      ]
    },
    {
      "cell_type": "code",
      "metadata": {
        "id": "tIjUg-FuQxl-",
        "colab_type": "code",
        "colab": {}
      },
      "source": [
        "def data_generator(batch_size=256):\n",
        "    while True:\n",
        "        x = create_batch(batch_size)\n",
        "        y = np.zeros((batch_size, 3*emb_size))\n",
        "        yield x, y"
      ],
      "execution_count": 13,
      "outputs": []
    },
    {
      "cell_type": "markdown",
      "metadata": {
        "id": "rVg3W6kwQxmL",
        "colab_type": "text"
      },
      "source": [
        "# Task 9: Model Training"
      ]
    },
    {
      "cell_type": "code",
      "metadata": {
        "id": "FVpLpRZUQxmN",
        "colab_type": "code",
        "colab": {
          "base_uri": "https://localhost:8080/",
          "height": 279
        },
        "outputId": "dd8b6efb-60c0-4964-924c-6bbaa6074de6"
      },
      "source": [
        "batch_size = 2048\n",
        "epochs = 10\n",
        "steps_per_epoch = int(x_train.shape[0]/batch_size)\n",
        "\n",
        "net.compile(loss=triplet_loss, optimizer='adam')\n",
        "\n",
        "_ = net.fit(\n",
        "    data_generator(batch_size),\n",
        "    steps_per_epoch=steps_per_epoch,\n",
        "    epochs=epochs, verbose=False,\n",
        "    callbacks=[\n",
        "        PCAPlotter(\n",
        "            plt, embedding_model,\n",
        "            x_test[:1000], y_test[:1000]\n",
        "        )]\n",
        ")"
      ],
      "execution_count": 14,
      "outputs": [
        {
          "output_type": "display_data",
          "data": {
            "image/png": "[encoded data removed]",
            "text/plain": [
              "<Figure size 648x288 with 2 Axes>"
            ]
          },
          "metadata": {
            "tags": [],
            "needs_background": "light"
          }
        }
      ]
    },
    {
      "cell_type": "code",
      "metadata": {
        "id": "3qynaA0wQxma",
        "colab_type": "code",
        "colab": {}
      },
      "source": [
        ""
      ],
      "execution_count": 14,
      "outputs": []
    }
  ]
}